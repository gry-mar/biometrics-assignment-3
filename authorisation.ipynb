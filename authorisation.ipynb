{
 "cells": [
  {
   "cell_type": "code",
   "execution_count": 1,
   "metadata": {},
   "outputs": [],
   "source": [
    "from deepface import DeepFace\n",
    "import re"
   ]
  },
  {
   "cell_type": "code",
   "execution_count": 12,
   "metadata": {},
   "outputs": [],
   "source": [
    "def authenticate_user(image_path):\n",
    "    result = DeepFace.find(image_path, db_path='./database')\n",
    "\n",
    "    distance = result[0]['distance'][0]\n",
    "    person = ' '.join((result[0]['identity'][0]).split('\\\\')[-1].split('_')[:2])\n",
    "    max_distance = 0.5\n",
    "\n",
    "    print('\\n-------------- Authentication --------------\\n')\n",
    "\n",
    "    print(f'Distance: {distance}')\n",
    "    if distance <= max_distance:\n",
    "        print(f'Authentication confirmed. Welcome {person}!')\n",
    "    else:\n",
    "        print('Authentication DENIED')\n",
    "        \n",
    "    return result"
   ]
  },
  {
   "cell_type": "code",
   "execution_count": 13,
   "metadata": {},
   "outputs": [
    {
     "name": "stdout",
     "output_type": "stream",
     "text": [
      "24-06-14 18:53:49 - Searching ../dataset/Adam_Sandler/test_positive/Adam_Sandler_1088_560.jpeg in 5323 length datastore\n",
      "24-06-14 18:53:53 - find function duration 8.852193355560303 seconds\n",
      "\n",
      "-------------- Authentication --------------\n",
      "\n",
      "Distance: 0.09274071399858375\n",
      "Authentication confirmed. Welcome Adam Sandler!\n"
     ]
    }
   ],
   "source": [
    "result = authenticate_user('../dataset/Adam_Sandler/test_positive/Adam_Sandler_1088_560.jpeg')\n"
   ]
  }
 ],
 "metadata": {
  "kernelspec": {
   "display_name": "venv",
   "language": "python",
   "name": "python3"
  },
  "language_info": {
   "codemirror_mode": {
    "name": "ipython",
    "version": 3
   },
   "file_extension": ".py",
   "mimetype": "text/x-python",
   "name": "python",
   "nbconvert_exporter": "python",
   "pygments_lexer": "ipython3",
   "version": "3.8.10"
  }
 },
 "nbformat": 4,
 "nbformat_minor": 2
}
