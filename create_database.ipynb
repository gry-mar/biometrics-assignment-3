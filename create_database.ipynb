{
 "cells": [
  {
   "cell_type": "code",
   "execution_count": 8,
   "metadata": {},
   "outputs": [
    {
     "name": "stdout",
     "output_type": "stream",
     "text": [
      "./database\n"
     ]
    }
   ],
   "source": [
    "import os\n",
    "import shutil\n",
    "\n",
    "def move_images_to_common_folder(dataset_path, common_folder_name='./database'):  # common_folder_name test if tesd database, dataset_images if database\n",
    "    profiles_path = dataset_path\n",
    "    common_folder_path = common_folder_name\n",
    "\n",
    "    print(common_folder_path)\n",
    "    \n",
    "    if not os.path.exists(common_folder_path):\n",
    "        os.makedirs(common_folder_path)\n",
    "    \n",
    "    for person in os.listdir(profiles_path):\n",
    "        # for sub_folder in ['test_positive','test_negative']:  # create test database\n",
    "        for sub_folder in ['profile']:  # create database\n",
    "            images_path = os.path.join(profiles_path, person, sub_folder)\n",
    "            if os.path.exists(images_path):\n",
    "                for image_name in os.listdir(images_path):\n",
    "                    unique_file_name = f\"{person}_{sub_folder}_{image_name}\"\n",
    "                    if unique_file_name in os.listdir(common_folder_path):\n",
    "                        pass\n",
    "                    else:\n",
    "                        src_path = os.path.join(images_path, image_name)\n",
    "                        dst_path = os.path.join(common_folder_path, unique_file_name)\n",
    "                        shutil.copy(src_path, dst_path)\n",
    "\n",
    "\n",
    "dataset_path = '../dataset'\n",
    "move_images_to_common_folder(dataset_path)\n"
   ]
  }
 ],
 "metadata": {
  "kernelspec": {
   "display_name": "venv",
   "language": "python",
   "name": "python3"
  },
  "language_info": {
   "name": "python",
   "version": "3.8.10"
  }
 },
 "nbformat": 4,
 "nbformat_minor": 2
}
