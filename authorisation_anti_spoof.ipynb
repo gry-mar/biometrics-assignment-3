{
 "cells": [
  {
   "cell_type": "code",
   "execution_count": 1,
   "metadata": {},
   "outputs": [],
   "source": [
    "# import ssl\n",
    "# import urllib.request\n",
    "# import torch\n",
    "# from PIL import Image\n",
    "# import matplotlib.pyplot as plt\n",
    "# from torchvision import transforms\n",
    "# from torch.nn import functional as F\n",
    "# %load_ext autoreload\n",
    "\n",
    "# %autoreload 2\n",
    "\n",
    "# ssl._create_default_https_context = ssl._create_unverified_context\n",
    "# from src.anti_spoof.fas import flip_it\n",
    "\n",
    "from deepface import DeepFace\n",
    "import re\n",
    "\n",
    "import streamlit as st"
   ]
  },
  {
   "cell_type": "code",
   "execution_count": null,
   "metadata": {},
   "outputs": [],
   "source": [
    "# model = flip_it()\n",
    "# model_path = \"pretrained_models/casia_flip_mcl.pth.tar\"\n",
    "# checkpoint = torch.load(model_path, map_location=\"cpu\")\n",
    "# model.load_state_dict(checkpoint[\"state_dict\"], strict=False)\n",
    "# model.eval()"
   ]
  },
  {
   "cell_type": "code",
   "execution_count": null,
   "metadata": {},
   "outputs": [],
   "source": [
    "# img1_path = \"../spoof/spoof/spoof_314.png\"\n",
    "# img = Image.open(img1_path)\n",
    "# plt.imshow(img)"
   ]
  },
  {
   "cell_type": "code",
   "execution_count": 3,
   "metadata": {},
   "outputs": [],
   "source": [
    "# preprocess = transforms.Compose(\n",
    "# [\n",
    "# transforms.Resize([224, 224]),\n",
    "# transforms.ToTensor(),\n",
    "# transforms.Normalize(mean=[0.485], std=[0.229])\n",
    "# ]\n",
    "# )"
   ]
  },
  {
   "cell_type": "code",
   "execution_count": 2,
   "metadata": {},
   "outputs": [],
   "source": [
    "def authorise_user(image_path):\n",
    "    print('\\n-------------- Authorisation --------------\\n')\n",
    "\n",
    "    # anti spoof\n",
    "    # img = Image.open(image_path)\n",
    "\n",
    "    # input = preprocess(img).unsqueeze(0)\n",
    "    # cls_out, feature = model(input, norm_flag=True)\n",
    "    # prob = F.softmax(cls_out, dim=1).cpu().data.numpy()\n",
    "\n",
    "    # spoof_result = ((prob[:, 1])>= 0.5).astype(int)[0]\n",
    "\n",
    "    face_objs = DeepFace.extract_faces(\n",
    "    img_path=image_path,\n",
    "    anti_spoofing = True\n",
    "    )\n",
    "\n",
    "    if not all(face_obj[\"is_real\"] is True for face_obj in face_objs):\n",
    "        return 'Authorisation DENIED, spoof detected'\n",
    "\n",
    "    else:\n",
    "        result = DeepFace.find(image_path, db_path='./database')\n",
    "\n",
    "        distance = result[0]['distance'][0]\n",
    "        person = ' '.join((result[0]['identity'][0]).split('\\\\')[-1].split('_')[:2])\n",
    "        max_distance = 0.5\n",
    "\n",
    "        print(f'Distance: {distance}')\n",
    "        if distance <= max_distance:\n",
    "            print(f'Authorisation confirmed. Welcome {person}!')\n",
    "        else:\n",
    "            print('Authorisation DENIED')\n",
    "            \n",
    "        return result"
   ]
  },
  {
   "cell_type": "code",
   "execution_count": 3,
   "metadata": {},
   "outputs": [
    {
     "name": "stdout",
     "output_type": "stream",
     "text": [
      "\n",
      "-------------- Authorisation --------------\n",
      "\n",
      "24-06-16 10:24:57 - Searching ../dataset/Adam_Sandler/test_positive/Adam_Sandler_1088_560.jpeg in 5323 length datastore\n",
      "24-06-16 10:25:04 - find function duration 13.509296417236328 seconds\n",
      "Distance: 0.09274071399858375\n",
      "Authorisation confirmed. Welcome Adam Sandler!\n"
     ]
    }
   ],
   "source": [
    "result = authorise_user('../dataset/Adam_Sandler/test_positive/Adam_Sandler_1088_560.jpeg')\n"
   ]
  },
  {
   "cell_type": "code",
   "execution_count": 4,
   "metadata": {},
   "outputs": [],
   "source": [
    "from deepface import DeepFace\n",
    "face_objs = DeepFace.extract_faces(\n",
    "  img_path=\"../spoof/real/real_0.png\",\n",
    "  anti_spoofing = True\n",
    ")"
   ]
  },
  {
   "cell_type": "code",
   "execution_count": 2,
   "metadata": {},
   "outputs": [
    {
     "ename": "AssertionError",
     "evalue": "",
     "output_type": "error",
     "traceback": [
      "\u001b[1;31m---------------------------------------------------------------------------\u001b[0m",
      "\u001b[1;31mAssertionError\u001b[0m                            Traceback (most recent call last)",
      "Cell \u001b[1;32mIn[2], line 1\u001b[0m\n\u001b[1;32m----> 1\u001b[0m \u001b[38;5;28;01massert\u001b[39;00m \u001b[38;5;28mall\u001b[39m(face_obj[\u001b[38;5;124m\"\u001b[39m\u001b[38;5;124mis_real\u001b[39m\u001b[38;5;124m\"\u001b[39m] \u001b[38;5;129;01mis\u001b[39;00m \u001b[38;5;28;01mTrue\u001b[39;00m \u001b[38;5;28;01mfor\u001b[39;00m face_obj \u001b[38;5;129;01min\u001b[39;00m face_objs)\n",
      "\u001b[1;31mAssertionError\u001b[0m: "
     ]
    }
   ],
   "source": [
    "# assert all(face_obj[\"is_real\"] is True for face_obj in face_objs)"
   ]
  },
  {
   "cell_type": "code",
   "execution_count": 5,
   "metadata": {},
   "outputs": [
    {
     "name": "stdout",
     "output_type": "stream",
     "text": [
      "no spoof\n"
     ]
    }
   ],
   "source": [
    "# for face_obj in face_objs:\n",
    "#     print(face_obj[\"is_real\"])\n",
    "\n",
    "if not all(face_obj[\"is_real\"] is True for face_obj in face_objs):\n",
    "    print('spoof')\n",
    "else:\n",
    "    print('no spoof')\n"
   ]
  }
 ],
 "metadata": {
  "kernelspec": {
   "display_name": "env",
   "language": "python",
   "name": "python3"
  },
  "language_info": {
   "codemirror_mode": {
    "name": "ipython",
    "version": 3
   },
   "file_extension": ".py",
   "mimetype": "text/x-python",
   "name": "python",
   "nbconvert_exporter": "python",
   "pygments_lexer": "ipython3",
   "version": "3.8.10"
  }
 },
 "nbformat": 4,
 "nbformat_minor": 2
}
